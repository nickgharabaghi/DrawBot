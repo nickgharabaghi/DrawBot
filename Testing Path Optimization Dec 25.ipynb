{
 "cells": [
  {
   "cell_type": "code",
   "execution_count": 49,
   "id": "4d842f64",
   "metadata": {},
   "outputs": [
    {
     "data": {
      "image/png": "[encoded data removed]",
      "text/plain": [
       "<Figure size 432x288 with 1 Axes>"
      ]
     },
     "metadata": {
      "needs_background": "light"
     },
     "output_type": "display_data"
    }
   ],
   "source": [
    "import numpy as np\n",
    "import matplotlib.image as mpimg\n",
    "import matplotlib.pyplot as plt\n",
    "import scipy.ndimage as ndimage\n",
    "import random \n",
    "\n",
    "\n",
    "\n",
    "# define a grid, and add an (unoptimized) path:\n",
    "grid = np.zeros((40, 40))\n",
    "for i in range(0, grid.shape[0]):\n",
    "    for j in range(0, grid.shape[0]):\n",
    "        if (i%8 < 5 or i%8 ==7) and (j==0):\n",
    "            grid[i,j] = 1\n",
    "        if (3<i%8) and (j==1):\n",
    "            grid[i,j] = 1\n",
    "        if (j%8 < 5 or j%8 ==7) and (i==grid.shape[0] - 1):\n",
    "            grid[i,j] = 1\n",
    "        if (3<j%8) and (i==grid.shape[0]-2):\n",
    "            grid[i,j] = 1\n",
    "\n",
    "maze_colour_plot = plt.imshow(grid) \n",
    "plt.show()\n",
    "\n",
    "# Get a list of all the points in the grid, based on how "
   ]
  }
 ],
 "metadata": {
  "kernelspec": {
   "display_name": "Python 3",
   "language": "python",
   "name": "python3"
  },
  "language_info": {
   "codemirror_mode": {
    "name": "ipython",
    "version": 3
   },
   "file_extension": ".py",
   "mimetype": "text/x-python",
   "name": "python",
   "nbconvert_exporter": "python",
   "pygments_lexer": "ipython3",
   "version": "3.8.8"
  }
 },
 "nbformat": 4,
 "nbformat_minor": 5
}
